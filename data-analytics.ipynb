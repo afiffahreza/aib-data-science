{
 "cells": [
  {
   "cell_type": "markdown",
   "metadata": {},
   "source": [
    "# Tugas Data Science AI for Business\n",
    "# KBS untuk rumah123.com\n",
    "\n",
    "### Oleh\n",
    "18219006 Marcelino Feihan\n",
    "\n",
    "18219014 Zarfa Naida Pratista\n",
    "\n",
    "18219058 Afif Fahreza\n"
   ]
  },
  {
   "cell_type": "markdown",
   "metadata": {},
   "source": [
    "## Organisasi\n",
    "rumah123.com adalah sebuah situs pencarian properti di Indonesia. Situs ini juga menyediakan berita dan fitur pemberitahuan tentang properti. Ada juga beberapa perangkat yang dapat digunakan seperti Kalkulator KPR untuk melakukan kalkulasi sebelum membeli properti. Dengan lebih dari 900,000 listing, rumah123.com dapat membantu masyarakat Indonesia dalam menemukan rumah mereka dan investasi properti.\n",
    "\n",
    "## Masalah\n",
    "Orang-orang yang masih awam terhadap bidang properti masih kesulitan memilih properti yang berpeluang baik untuk investasi karena tidak mengetahui cara melakukan perhitungan kenaikan harga dari properti. Hal ini menyebabkan tidak banyak orang awam properti yang mencari properti di situs ini untuk berinvestasi.\n",
    "\n",
    "Pengguna situs rumah123.com tentu akan meningkat  jika orang-orang yang tidak mengerti tentang bidang properti tetap bisa mengetahui peluang investasi tiap properti yang ada pada situs.\n",
    "\n",
    "## Metode pengukuran keberhasilan \n",
    "Terhitungnya besar peluang investasi untuk tiap properti yang ada pada situs rumah123.com\n",
    "\n",
    "## Data dan Sumber\n",
    "- Harga properti \n",
    "- Tahun update harga properti\n",
    "- Lokasi dari properti\n",
    "- Persentase kenaikan properti tiap tahun\n",
    "\n",
    "Sumber : web scraping rumah123.com"
   ]
  },
  {
   "cell_type": "markdown",
   "metadata": {},
   "source": [
    "## === Analisis Data ==="
   ]
  },
  {
   "cell_type": "markdown",
   "metadata": {},
   "source": [
    "Import Library yang dibutuhkan"
   ]
  },
  {
   "cell_type": "code",
   "execution_count": 1,
   "metadata": {},
   "outputs": [],
   "source": [
    "import pandas as pd\n",
    "import numpy as np\n",
    "import matplotlib.pyplot as plt"
   ]
  },
  {
   "cell_type": "markdown",
   "metadata": {},
   "source": [
    "Membaca data dari file CSV"
   ]
  },
  {
   "cell_type": "code",
   "execution_count": 2,
   "metadata": {},
   "outputs": [],
   "source": [
    "data = pd.read_csv(\"data.csv\")"
   ]
  },
  {
   "cell_type": "markdown",
   "metadata": {},
   "source": [
    "Menampilkan data"
   ]
  },
  {
   "cell_type": "code",
   "execution_count": 3,
   "metadata": {},
   "outputs": [
    {
     "data": {
      "text/html": [
       "<div>\n",
       "<style scoped>\n",
       "    .dataframe tbody tr th:only-of-type {\n",
       "        vertical-align: middle;\n",
       "    }\n",
       "\n",
       "    .dataframe tbody tr th {\n",
       "        vertical-align: top;\n",
       "    }\n",
       "\n",
       "    .dataframe thead th {\n",
       "        text-align: right;\n",
       "    }\n",
       "</style>\n",
       "<table border=\"1\" class=\"dataframe\">\n",
       "  <thead>\n",
       "    <tr style=\"text-align: right;\">\n",
       "      <th></th>\n",
       "      <th>property_title</th>\n",
       "      <th>property_agent</th>\n",
       "      <th>location</th>\n",
       "      <th>latitude</th>\n",
       "      <th>longitude</th>\n",
       "      <th>phone_number</th>\n",
       "      <th>property_type</th>\n",
       "      <th>land_area</th>\n",
       "      <th>building_area</th>\n",
       "      <th>price_idr</th>\n",
       "      <th>num_bathroom</th>\n",
       "      <th>num_bedroom</th>\n",
       "      <th>garage_capacity</th>\n",
       "    </tr>\n",
       "  </thead>\n",
       "  <tbody>\n",
       "    <tr>\n",
       "      <th>0</th>\n",
       "      <td>Perumahan Annieland Balaraja Cisoka Rumah Siap...</td>\n",
       "      <td>Independent Property Agent</td>\n",
       "      <td>Cisoka, Tangerang</td>\n",
       "      <td>-6.269770</td>\n",
       "      <td>106.433003</td>\n",
       "      <td>6.281839e+10</td>\n",
       "      <td>Rumah</td>\n",
       "      <td>60</td>\n",
       "      <td>36</td>\n",
       "      <td>1.680000e+08</td>\n",
       "      <td>1</td>\n",
       "      <td>2</td>\n",
       "      <td>1</td>\n",
       "    </tr>\n",
       "    <tr>\n",
       "      <th>1</th>\n",
       "      <td>Rumah Mewah 2 Lantai Termurah Di Jabodetabek</td>\n",
       "      <td>Independent Property Agent</td>\n",
       "      <td>Bukit Sentul, Bogor</td>\n",
       "      <td>-6.618206</td>\n",
       "      <td>106.879065</td>\n",
       "      <td>6.208950e+13</td>\n",
       "      <td>Rumah</td>\n",
       "      <td>80</td>\n",
       "      <td>90</td>\n",
       "      <td>7.850000e+08</td>\n",
       "      <td>2</td>\n",
       "      <td>3</td>\n",
       "      <td>2</td>\n",
       "    </tr>\n",
       "    <tr>\n",
       "      <th>2</th>\n",
       "      <td>Perumahan Muslim Segera Survey Banyak Kejutan ...</td>\n",
       "      <td>K-Pro</td>\n",
       "      <td>Kalisari, Jakarta Timur</td>\n",
       "      <td>-6.336080</td>\n",
       "      <td>106.852973</td>\n",
       "      <td>6.281116e+11</td>\n",
       "      <td>Rumah</td>\n",
       "      <td>91</td>\n",
       "      <td>105</td>\n",
       "      <td>1.470000e+09</td>\n",
       "      <td>4</td>\n",
       "      <td>4</td>\n",
       "      <td>1</td>\n",
       "    </tr>\n",
       "    <tr>\n",
       "      <th>3</th>\n",
       "      <td>Dijual rumah murah di Dago lokasi strategis da...</td>\n",
       "      <td>Onasis Property Bandung</td>\n",
       "      <td>Dago, Bandung</td>\n",
       "      <td>-6.904979</td>\n",
       "      <td>107.610479</td>\n",
       "      <td>8.129633e+10</td>\n",
       "      <td>Rumah</td>\n",
       "      <td>60</td>\n",
       "      <td>90</td>\n",
       "      <td>1.170000e+09</td>\n",
       "      <td>2</td>\n",
       "      <td>3</td>\n",
       "      <td>0</td>\n",
       "    </tr>\n",
       "    <tr>\n",
       "      <th>4</th>\n",
       "      <td>Rumah minimalis deket stasiun tambun</td>\n",
       "      <td>JPI Propertindo Ps. Minggu</td>\n",
       "      <td>Tambun Selatan, Bekasi</td>\n",
       "      <td>-6.272237</td>\n",
       "      <td>107.066368</td>\n",
       "      <td>6.283806e+12</td>\n",
       "      <td>Rumah</td>\n",
       "      <td>60</td>\n",
       "      <td>36</td>\n",
       "      <td>3.450000e+08</td>\n",
       "      <td>1</td>\n",
       "      <td>2</td>\n",
       "      <td>1</td>\n",
       "    </tr>\n",
       "  </tbody>\n",
       "</table>\n",
       "</div>"
      ],
      "text/plain": [
       "                                      property_title  \\\n",
       "0  Perumahan Annieland Balaraja Cisoka Rumah Siap...   \n",
       "1       Rumah Mewah 2 Lantai Termurah Di Jabodetabek   \n",
       "2  Perumahan Muslim Segera Survey Banyak Kejutan ...   \n",
       "3  Dijual rumah murah di Dago lokasi strategis da...   \n",
       "4               Rumah minimalis deket stasiun tambun   \n",
       "\n",
       "               property_agent                 location  latitude   longitude  \\\n",
       "0  Independent Property Agent        Cisoka, Tangerang -6.269770  106.433003   \n",
       "1  Independent Property Agent      Bukit Sentul, Bogor -6.618206  106.879065   \n",
       "2                       K-Pro  Kalisari, Jakarta Timur -6.336080  106.852973   \n",
       "3     Onasis Property Bandung            Dago, Bandung -6.904979  107.610479   \n",
       "4  JPI Propertindo Ps. Minggu   Tambun Selatan, Bekasi -6.272237  107.066368   \n",
       "\n",
       "   phone_number property_type  land_area  building_area     price_idr  \\\n",
       "0  6.281839e+10         Rumah         60             36  1.680000e+08   \n",
       "1  6.208950e+13         Rumah         80             90  7.850000e+08   \n",
       "2  6.281116e+11         Rumah         91            105  1.470000e+09   \n",
       "3  8.129633e+10         Rumah         60             90  1.170000e+09   \n",
       "4  6.283806e+12         Rumah         60             36  3.450000e+08   \n",
       "\n",
       "   num_bathroom  num_bedroom  garage_capacity  \n",
       "0             1            2                1  \n",
       "1             2            3                2  \n",
       "2             4            4                1  \n",
       "3             2            3                0  \n",
       "4             1            2                1  "
      ]
     },
     "execution_count": 3,
     "metadata": {},
     "output_type": "execute_result"
    }
   ],
   "source": [
    "data[:5]"
   ]
  },
  {
   "cell_type": "markdown",
   "metadata": {},
   "source": [
    "Menampilkan atribut pada data"
   ]
  },
  {
   "cell_type": "code",
   "execution_count": 4,
   "metadata": {},
   "outputs": [
    {
     "data": {
      "text/plain": [
       "Index(['property_title', 'property_agent', 'location', 'latitude', 'longitude',\n",
       "       'phone_number', 'property_type', 'land_area', 'building_area',\n",
       "       'price_idr', 'num_bathroom', 'num_bedroom', 'garage_capacity'],\n",
       "      dtype='object')"
      ]
     },
     "execution_count": 4,
     "metadata": {},
     "output_type": "execute_result"
    }
   ],
   "source": [
    "data.columns"
   ]
  },
  {
   "cell_type": "markdown",
   "metadata": {},
   "source": [
    "Menampilkan minimum, maksimum, median, dan rata-rata harga properti"
   ]
  },
  {
   "cell_type": "code",
   "execution_count": 5,
   "metadata": {},
   "outputs": [
    {
     "name": "stdout",
     "output_type": "stream",
     "text": [
      "Mean =  6546773371.842962\n",
      "Minimum =  3500000.0\n",
      "Maximum =  350000000000.0\n",
      "Median =  2200000000.0\n"
     ]
    }
   ],
   "source": [
    "print(\"Mean = \",data['price_idr'].mean())\n",
    "print(\"Minimum = \",data['price_idr'].min())\n",
    "print(\"Maximum = \",data['price_idr'].max())\n",
    "print(\"Median = \",data['price_idr'].median())"
   ]
  },
  {
   "cell_type": "markdown",
   "metadata": {},
   "source": [
    "Visualisasi range harga properti"
   ]
  },
  {
   "cell_type": "code",
   "execution_count": 6,
   "metadata": {},
   "outputs": [
    {
     "data": {
      "image/png": "[encoded data removed]",
      "text/plain": [
       "<Figure size 432x288 with 1 Axes>"
      ]
     },
     "metadata": {
      "needs_background": "light"
     },
     "output_type": "display_data"
    }
   ],
   "source": [
    "dataLabel = ['0-800 juta', '800 juta - 1.4 miliar', '1.4-2 miliar', '2-3 miliar', '3-5 miliar', '5-10 miliar', '>10 miliar']\n",
    "dataCount = [0, 0, 0, 0, 0, 0, 0]\n",
    "\n",
    "for price in data['price_idr']:\n",
    "    if price < 800000000:\n",
    "        dataCount[0] += 1\n",
    "    elif price >= 800000000 and price < 1400000000:\n",
    "        dataCount[1] += 1\n",
    "    elif price >= 1400000000 and price < 2000000000:\n",
    "        dataCount[2] += 1\n",
    "    elif price >= 2000000000 and price < 3000000000:\n",
    "        dataCount[3] += 1\n",
    "    elif price >= 3000000000 and price < 5000000000:\n",
    "        dataCount[4] += 1\n",
    "    elif price >= 5000000000 and price < 10000000000:\n",
    "        dataCount[5] += 1\n",
    "    elif price >= 10000000000:\n",
    "        dataCount[6] += 1\n",
    "\n",
    "fig, ax = plt.subplots()\n",
    "y_pos = np.arange(len(dataLabel))\n",
    "hbars = ax.barh(y_pos, dataCount, align='center')\n",
    "ax.set_yticks(y_pos, labels=dataLabel)\n",
    "ax.invert_yaxis()  # labels read top-to-bottom\n",
    "ax.set_xlabel('Price IDR')\n",
    "ax.set_title('Harga Properti')\n",
    "\n",
    "# Label with specially formatted floats\n",
    "ax.bar_label(hbars, fmt='%.2f')\n",
    "ax.set_xlim(right=500)  # adjust xlim to fit labels\n",
    "\n",
    "plt.show()"
   ]
  },
  {
   "cell_type": "code",
   "execution_count": 7,
   "metadata": {},
   "outputs": [
    {
     "data": {
      "text/plain": [
       "<AxesSubplot:title={'center':'Persebaran Jumlah Kamar'}>"
      ]
     },
     "execution_count": 7,
     "metadata": {},
     "output_type": "execute_result"
    },
    {
     "data": {
      "image/png": "[encoded data removed]",
      "text/plain": [
       "<Figure size 432x288 with 1 Axes>"
      ]
     },
     "metadata": {
      "needs_background": "light"
     },
     "output_type": "display_data"
    }
   ],
   "source": [
    "df = data[data['num_bedroom']!='nan']\n",
    "df['num_bedroom'].value_counts(dropna=True).sort_index().plot(kind=\"bar\",x='num_bedroom',y='counts',title=\"Persebaran Jumlah Kamar\")"
   ]
  },
  {
   "cell_type": "code",
   "execution_count": 8,
   "metadata": {},
   "outputs": [
    {
     "data": {
      "text/plain": [
       "<AxesSubplot:title={'center':'Persebaran Jumlah Garasi'}>"
      ]
     },
     "execution_count": 8,
     "metadata": {},
     "output_type": "execute_result"
    },
    {
     "data": {
      "image/png": "[encoded data removed]",
      "text/plain": [
       "<Figure size 432x288 with 1 Axes>"
      ]
     },
     "metadata": {
      "needs_background": "light"
     },
     "output_type": "display_data"
    }
   ],
   "source": [
    "df = data[data['garage_capacity']!='nan']\n",
    "df['garage_capacity'].value_counts(dropna=True).sort_index().plot(kind=\"bar\",x='garage_capacity',y='counts',title=\"Persebaran Jumlah Garasi\")"
   ]
  },
  {
   "cell_type": "code",
   "execution_count": 9,
   "metadata": {},
   "outputs": [
    {
     "data": {
      "text/plain": [
       "<AxesSubplot:title={'center':'Persebaran Jumlah Kamar Mandi'}>"
      ]
     },
     "execution_count": 9,
     "metadata": {},
     "output_type": "execute_result"
    },
    {
     "data": {
      "image/png": "[encoded data removed]",
      "text/plain": [
       "<Figure size 432x288 with 1 Axes>"
      ]
     },
     "metadata": {
      "needs_background": "light"
     },
     "output_type": "display_data"
    }
   ],
   "source": [
    "df = data[data['num_bathroom']!='nan']\n",
    "df['num_bathroom'].value_counts(dropna=True).sort_index().plot(kind=\"bar\",x='num_bathroom',y='counts',title=\"Persebaran Jumlah Kamar Mandi\")"
   ]
  },
  {
   "cell_type": "code",
   "execution_count": 10,
   "metadata": {},
   "outputs": [
    {
     "data": {
      "image/png": "[encoded data removed]",
      "text/plain": [
       "<Figure size 432x288 with 1 Axes>"
      ]
     },
     "metadata": {
      "needs_background": "light"
     },
     "output_type": "display_data"
    }
   ],
   "source": [
    "fig, ax = plt.subplots()\n",
    "ax.plot(data['land_area'].value_counts().sort_index())\n",
    "ax.set_title(\"Persebaran Luas Tanah\")\n",
    "plt.xticks(np.arange(min(data['land_area']), max(data['land_area']), 500),rotation=45)\n",
    "plt.show()"
   ]
  },
  {
   "cell_type": "code",
   "execution_count": 11,
   "metadata": {},
   "outputs": [
    {
     "data": {
      "image/png": "[encoded data removed]",
      "text/plain": [
       "<Figure size 432x288 with 1 Axes>"
      ]
     },
     "metadata": {
      "needs_background": "light"
     },
     "output_type": "display_data"
    }
   ],
   "source": [
    "fig, ax = plt.subplots()\n",
    "ax.plot(data['building_area'].value_counts().sort_index())\n",
    "ax.set_title(\"Persebaran Luas Bangunan\")\n",
    "plt.xticks(np.arange(min(data['building_area']), max(data['building_area']), 100),rotation=90)\n",
    "plt.show()"
   ]
  },
  {
   "cell_type": "code",
   "execution_count": null,
   "metadata": {},
   "outputs": [],
   "source": []
  }
 ],
 "metadata": {
  "interpreter": {
   "hash": "afd9b8a082ff309121c661ef1d450e9293ae4c9fcff9c17f7d786e789126b826"
  },
  "kernelspec": {
   "display_name": "Python 3",
   "language": "python",
   "name": "python3"
  },
  "language_info": {
   "codemirror_mode": {
    "name": "ipython",
    "version": 3
   },
   "file_extension": ".py",
   "mimetype": "text/x-python",
   "name": "python",
   "nbconvert_exporter": "python",
   "pygments_lexer": "ipython3",
   "version": "3.9.7"
  }
 },
 "nbformat": 4,
 "nbformat_minor": 2
}
