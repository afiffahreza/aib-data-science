{
 "cells": [
  {
   "cell_type": "markdown",
   "metadata": {},
   "source": [
    "# WEB SCRAPING TAPI MASIH GABISAAAA\n",
    "Pengumpulan data dengan Web Scraping dari website rumah123.com\n",
    "\n",
    "Referensi:\n",
    "https://github.com/tugusav/Rumah123-Data-Analysis\n",
    "\n",
    "Oleh:\n",
    "- 18219006 Marcelino Feihan\n",
    "- 18219014 Zarfa Naida Pratista\n",
    "- 18219058 Afif Fahreza"
   ]
  },
  {
   "cell_type": "markdown",
   "metadata": {},
   "source": [
    "Import semua library yang dibutuhkan"
   ]
  },
  {
   "cell_type": "code",
   "execution_count": 24,
   "metadata": {},
   "outputs": [],
   "source": [
    "import bs4\n",
    "from urllib.request import urlopen as uReq, Request\n",
    "from bs4 import BeautifulSoup as soup\n",
    "import time\n",
    "from tqdm import tqdm"
   ]
  },
  {
   "cell_type": "markdown",
   "metadata": {},
   "source": [
    "Kelas untuk data rumah"
   ]
  },
  {
   "cell_type": "code",
   "execution_count": 25,
   "metadata": {},
   "outputs": [],
   "source": [
    "class HouseData:\n",
    "    def __init__(self,property_title, property_agent,location,phone_number,property_type,land_area,building_area,price_idr,num_bathroom,num_bedroom,garage_capacity):\n",
    "        self.property_title=property_title\n",
    "        self.property_agent=property_agent\n",
    "        self.location=location\n",
    "        self.phone_number=phone_number\n",
    "        self.property_type=property_type\n",
    "        self.land_area=land_area\n",
    "        self.building_area=building_area\n",
    "        self.price_idr=price_idr\n",
    "        self.num_bathroom=num_bathroom\n",
    "        self.num_bedroom=num_bedroom\n",
    "        self.garage_capacity=garage_capacity\n",
    "\n",
    "    def printObject(self):\n",
    "        print(f'''\n",
    "            Title : {self.property_title}\n",
    "            Agen: {self.property_agent}\n",
    "            Location : {self.location}\n",
    "            Phone number: {self.phone_number}\n",
    "            Type : {self.property_type}\n",
    "            LT : {self.land_area}\n",
    "            LB : {self.building_area}\n",
    "            price : {self.price_idr}\n",
    "            KM: {self.num_bathroom}\n",
    "            KT: {self.num_bedroom}\n",
    "            Kapasitas Garasi Mobil: {self.garage_capacity}\n",
    "            ''')"
   ]
  },
  {
   "cell_type": "markdown",
   "metadata": {},
   "source": [
    "Fungsi untuk manipulasi data harga dari string menjadi integer"
   ]
  },
  {
   "cell_type": "code",
   "execution_count": 26,
   "metadata": {},
   "outputs": [],
   "source": [
    "def convert_harga_to_int(str):\n",
    "    # format \"Rp. 700 Jt\" atau \"Rp. 35 M\" atau \"Rp. 355\"\n",
    "    str = str.replace(\",\", \".\") # mengubah koma menjadi titik untuk kebutuhan lfoat\n",
    "    str_split = str.split()\n",
    "\n",
    "    if len(str_split)<=2:\n",
    "        # harga hanya mengambil bentuk integer dari indeks ke 1\n",
    "        harga = int(float(str_split[1])*1000000) #asumsi semua dalam satuan juta\n",
    "        return harga\n",
    "    else:\n",
    "        # len dari listnya >=3 (ada Jt atau M)\n",
    "        if str_split[2].lower() == 'jt':\n",
    "            harga = int(float(str_split[1])*1000000)\n",
    "            return harga\n",
    "        elif str_split[2].lower() == 'm':\n",
    "            harga = int(float(str_split[1])*1000000000)\n",
    "            return harga"
   ]
  },
  {
   "cell_type": "markdown",
   "metadata": {},
   "source": [
    "Fungsi web scraper yang membuat objek berdasarkan nilai yang didapat saat scraping"
   ]
  },
  {
   "cell_type": "code",
   "execution_count": 27,
   "metadata": {},
   "outputs": [],
   "source": [
    "def scrapeweb(listOfHouse, firstpage, lastpage):\n",
    "    \n",
    "    i = firstpage\n",
    "    while i < lastpage+1:\n",
    "        try: \n",
    "            # declare the url for the website\n",
    "            base_url_rumah123 = \"https://www.rumah123.com/jual/rumah/\" +\"?page=\" + str(i) # firstpage as page param\n",
    "            header = {'user-agent': 'Mozilla/5.0 (Windows NT 10.0; Win64; x64)'}\n",
    "            request = Request(base_url_rumah123, headers = header)\n",
    "            uClient = uReq(request)\n",
    "            html_page = uClient.read()\n",
    "            uClient.close()\n",
    "            soup_page = soup(html_page, \"lxml\")\n",
    "\n",
    "            print(f'Scraping {base_url_rumah123} ...\\n')\n",
    "            property_list = soup_page.findAll('div', class_='sc-fubCfw irPtrP')\n",
    "\n",
    "            for prop in tqdm(property_list):\n",
    "                try:\n",
    "                    # listing property infos\n",
    "                    property_featured_title = prop.find('div', class_='ui-organisms-card-r123-featured__title-info truncate relative ui-col')\n",
    "                    property_title = property_featured_title.find('span', class_='ui-atomic-text ui-atomic-text--styling-heading-6 ui-atomic-text--typeface-primary ui-atomic-link--children').text\n",
    "\n",
    "                    # bathroom, bedroom, and garage capacity\n",
    "                    property_featured_bottom = prop.find('div', class_='ui-organisms-card-r123-featured__bottom-row flex flex-row flex-wrap ui-row flex-align-end flex-justify-between')\n",
    "                    # array of max 3 elements (km kt g)\n",
    "                    property_element = property_featured_bottom.findAll('span', 'ui-atomic-text ui-atomic-text--styling-default ui-atomic-text--typeface-primary ui-atomic-link--children') \n",
    "                    km = 0 if len(property_element) < 1 else int(property_element[0].text)\n",
    "                    kt = 0 if len(property_element) < 2 else int(property_element[1].text)\n",
    "                    garasi = 0 if len(property_element) < 3 else int(property_element[2].text)\n",
    "\n",
    "                    # info regarding land and building area\n",
    "                    property_area = prop.find('div', class_= 'flex ui-molecules-list__divider-line--horizontal flex-align-center flex-row flex-wrap relative ui-molecules-list')\n",
    "                    # LT = Luas tanah, LB = Luas bangunan\n",
    "                    try:\n",
    "                        property_LT = property_area.text.split()[3]\n",
    "                    except IndexError:\n",
    "                        property_LT = 0\n",
    "                    try:\n",
    "                        property_LB = property_area.text.split()[7]\n",
    "                    except IndexError:\n",
    "                        property_LB = 0\n",
    "\n",
    "                    if (km != 0 and kt != 0) and (property_LT != 0 and property_LB != 0):\n",
    "                        # keep going\n",
    "\n",
    "                        # agent info\n",
    "                        agent = prop.find('h2').text\n",
    "\n",
    "                        # phone info\n",
    "                        if prop.find('div', class_='ui-atomic-card box-shadow-r123 ui-organisms-card-r123-featured ui-organisms-card-r123-featured--premier') is None:\n",
    "                            phone_number = prop.find('div', class_='ui-atomic-card box-shadow-r123 ui-organisms-card-r123-featured')['phonenumber']\n",
    "                        else:\n",
    "                            phone_number = prop.find('div', class_='ui-atomic-card box-shadow-r123 ui-organisms-card-r123-featured ui-organisms-card-r123-featured--premier')['phonenumber']    \n",
    "                        \n",
    "                        phone_number = \"+\" + phone_number\n",
    "\n",
    "                        # property type info\n",
    "                        property_type = prop.find('div', class_='relative ui-col-12').text\n",
    "\n",
    "                        # location info\n",
    "                        property_location = property_featured_title.find('span', class_='ui-atomic-text ui-atomic-text--styling-default ui-atomic-text--typeface-primary ui-atomic-link--children').text\n",
    "\n",
    "                        # price info\n",
    "                        property_price_card = prop.find('div', class_='flex flex-align-baseline ui-organisms-card-r123-featured__price-info')\n",
    "                        property_price = convert_harga_to_int(property_price_card.find('a', class_='ui-atomic-link ui-atomic-link--styling-underline-none').text)\n",
    "                        \n",
    "                        # creating object\n",
    "                        newHouse = HouseData(property_title, agent, property_location, phone_number, property_type, int(property_LT), int(property_LB), property_price, km, kt, garasi)\n",
    "                        # newHouse.printObject()\n",
    "                        listOfHouse.append(newHouse)\n",
    "                        # wait 2 second\n",
    "                        time.sleep(2)\n",
    "                    else:\n",
    "                        # we don't need bad data\n",
    "                        pass\n",
    "                \n",
    "                except (AttributeError):\n",
    "                    # listing other than house type\n",
    "                    pass\n",
    "                except Exception as e:\n",
    "                    print(e)\n",
    "            i+=1\n",
    "            \n",
    "        except Exception as e:\n",
    "            print(\"\\n\")\n",
    "            print('Error:', e)\n",
    "            print(\"Error or Page finished\")\n",
    "            break\n",
    "        \n",
    "            \n",
    "    print(\"\\n\")\n",
    "    print(f\"Scraping page from {firstpage} until {lastpage} has finished!\")"
   ]
  },
  {
   "cell_type": "markdown",
   "metadata": {},
   "source": [
    "Tes untuk fungsi scraper"
   ]
  },
  {
   "cell_type": "code",
   "execution_count": 28,
   "metadata": {},
   "outputs": [
    {
     "name": "stdout",
     "output_type": "stream",
     "text": [
      "Scraping https://www.rumah123.com/jual/rumah/?page=1 ...\n",
      "\n"
     ]
    },
    {
     "name": "stderr",
     "output_type": "stream",
     "text": [
      "100%|██████████| 1/1 [00:00<?, ?it/s]"
     ]
    },
    {
     "name": "stdout",
     "output_type": "stream",
     "text": [
      "\n",
      "\n",
      "Scraping page from 1 until 1 has finished!\n"
     ]
    },
    {
     "name": "stderr",
     "output_type": "stream",
     "text": [
      "\n"
     ]
    }
   ],
   "source": [
    "test = []\n",
    "scrapeweb(test, 1,1)"
   ]
  },
  {
   "cell_type": "code",
   "execution_count": 29,
   "metadata": {},
   "outputs": [
    {
     "data": {
      "text/plain": [
       "0"
      ]
     },
     "execution_count": 29,
     "metadata": {},
     "output_type": "execute_result"
    }
   ],
   "source": [
    "len(test)"
   ]
  }
 ],
 "metadata": {
  "interpreter": {
   "hash": "afd9b8a082ff309121c661ef1d450e9293ae4c9fcff9c17f7d786e789126b826"
  },
  "kernelspec": {
   "display_name": "Python 3.9.7 64-bit",
   "language": "python",
   "name": "python3"
  },
  "language_info": {
   "codemirror_mode": {
    "name": "ipython",
    "version": 3
   },
   "file_extension": ".py",
   "mimetype": "text/x-python",
   "name": "python",
   "nbconvert_exporter": "python",
   "pygments_lexer": "ipython3",
   "version": "3.9.7"
  },
  "orig_nbformat": 4
 },
 "nbformat": 4,
 "nbformat_minor": 2
}
