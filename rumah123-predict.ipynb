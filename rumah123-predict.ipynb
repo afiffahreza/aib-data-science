{
 "cells": [
  {
   "cell_type": "markdown",
   "metadata": {},
   "source": [
    "# Tugas KBS Data Science\n",
    "## II4042 AI for Business\n",
    "## KBS untuk rumah123.com\n",
    "### Oleh\n",
    "18219006 Marcelino Feihan\n",
    "\n",
    "18219014 Zarfa Naida Pratista\n",
    "\n",
    "18219058 Afif Fahreza\n"
   ]
  },
  {
   "cell_type": "markdown",
   "metadata": {},
   "source": [
    "## Daftar Isi"
   ]
  },
  {
   "cell_type": "markdown",
   "metadata": {},
   "source": [
    "1. [Business Understanding](#1)  \n",
    "1.1 [Menentukan Masalah Bisnis](#1-1)  \n",
    "1.2 [Menentukan Tugas Analytics](#1-2)  \n",
    "1.3 [Menentukan Kebutuhan Data](#1-3)  \n",
    "1.4 [Merencanakan Manajemen Proyek](#1-4)  \n",
    "2. [Data Understanding](#2)  \n",
    "2.1 [Mengumpulkan Data](#2-1)  \n",
    "2.2 [Menelaah Data](#2-2)  \n",
    "2.3 [Memvalidasi Data](#2-3)  \n",
    "3. [Data Preparation](#3)  \n",
    "3.1 [Memilih dan Memilah data](#3-1)  \n",
    "3.2 [Membersihkan Data](#3-2)  \n",
    "3.3 [Mengkonstruksi Data](#3-3)  \n",
    "3.4 [Integrasi Data](#3-4)  \n",
    "4. [Modeling](#4)  \n",
    "4.1 [Membangun Skenario Pemodelan](#4-1)  \n",
    "4.2 [Membangun Model](#4-2)  \n",
    "5. [Model Evaluation](#5)  \n",
    "5.1 [Mengevaluasi Model](#5-1)  \n",
    "5.2 [Mengevaluasi Proses](#5-2)  \n",
    "6. [Deployment](#6)  \n",
    "7. [Project Evaluation](#7)\n"
   ]
  },
  {
   "cell_type": "markdown",
   "metadata": {},
   "source": [
    "## 1. Business Understanding <a class=\"anchor\" id=\"1\"></a>\n",
    "\n",
    "### 1.1 Menentukan Masalah Bisnis <a class=\"anchor\" id=\"1-1\"></a>\n",
    "**Permasalahan**  \n",
    "Orang-orang yang masih awam terhadap bidang properti masih kesulitan menentukan harga properti yang berpeluang baik untuk investasi sehingga tidak banyak menggunakan situs ini.  \n",
    "\n",
    "**Pertanyaan**  \n",
    "Bagaimana agar orang yang awam properti tetap bisa mendapatkan untuk saat menggunakan situs untuk berinvestasi properti?  \n",
    "\n",
    "**Measurable Outcomes**  \n",
    "Persentase kenaikan jumlah listing properti dari situs rumah123.com  \n",
    "\n",
    "### 1.2 Menentukan Tugas Analytics <a class=\"anchor\" id=\"1-2\"></a>\n",
    "Sistem akan memberikan prediksi harga properti, sehingga tugas analytics yang digunakan adalah **regresi** dengan pengetesan menggunakan performance matrix **mean absolute error (MAE)**, **mean squared error (MSE)**, dan **koefisien deteminasi (R-Squared)**.  \n",
    "\n",
    "### 1.3 Menentukan Kebutuhan Data <a class=\"anchor\" id=\"1-3\"></a>\n",
    "Data didapat dari web scraping rumah123.com, dengan menggunakan web scraper pada link GitHub repository [berikut](https://github.com/tugusav/Rumah123-Data-Analysis)  \n",
    "Data-data yang dipakai adalah harga properti, lokasi properti, luas tanah properti, dan banyaknya ruangan pada properti.\n",
    "\n",
    "### 1.4 Merencanakan Manajemen Proyek <a class=\"anchor\" id=\"1-4\"></a>\n",
    "**Impact-Effort Matrix**  \n",
    "\n",
    "<img src=\"img/1.png\" alt=\"IEM\" width=\"480\" height=\"270\">\n",
    "\n",
    "**Cost Benefit Analysis**  \n",
    "\n",
    "<img src=\"img/2.png\" alt=\"CBA\" width=\"480\" height=\"270\">\n",
    "\n",
    "**Langkah Penyelesaian Masalah**  \n",
    "\n",
    "<img src=\"img/3.png\" alt=\"LPM\" width=\"480\" height=\"270\">"
   ]
  },
  {
   "cell_type": "markdown",
   "metadata": {},
   "source": [
    "## 2. Data Understanding <a class=\"anchor\" id=\"2\"></a>\n",
    "Tahapan untuk mengenal data yang dikumpulkan\n",
    "\n",
    "### 2.1 Mengumpulkan Data <a class=\"anchor\" id=\"2-1\"></a>"
   ]
  },
  {
   "cell_type": "markdown",
   "metadata": {},
   "source": [
    "Import Library yang dibutuhkan"
   ]
  },
  {
   "cell_type": "code",
   "execution_count": 2,
   "metadata": {},
   "outputs": [],
   "source": [
    "import numpy as np\n",
    "import pandas as pd\n",
    "import matplotlib.pyplot as plt\n",
    "import seaborn as sns\n",
    "import mpl_toolkits\n",
    "%matplotlib inline"
   ]
  },
  {
   "cell_type": "markdown",
   "metadata": {},
   "source": [
    "Membaca data dari file CSV dan menampilkan data"
   ]
  },
  {
   "cell_type": "code",
   "execution_count": 3,
   "metadata": {},
   "outputs": [
    {
     "data": {
      "text/html": [
       "<div>\n",
       "<style scoped>\n",
       "    .dataframe tbody tr th:only-of-type {\n",
       "        vertical-align: middle;\n",
       "    }\n",
       "\n",
       "    .dataframe tbody tr th {\n",
       "        vertical-align: top;\n",
       "    }\n",
       "\n",
       "    .dataframe thead th {\n",
       "        text-align: right;\n",
       "    }\n",
       "</style>\n",
       "<table border=\"1\" class=\"dataframe\">\n",
       "  <thead>\n",
       "    <tr style=\"text-align: right;\">\n",
       "      <th></th>\n",
       "      <th>property_title</th>\n",
       "      <th>property_agent</th>\n",
       "      <th>location</th>\n",
       "      <th>latitude</th>\n",
       "      <th>longitude</th>\n",
       "      <th>phone_number</th>\n",
       "      <th>property_type</th>\n",
       "      <th>land_area</th>\n",
       "      <th>building_area</th>\n",
       "      <th>price_idr</th>\n",
       "      <th>num_bathroom</th>\n",
       "      <th>num_bedroom</th>\n",
       "      <th>garage_capacity</th>\n",
       "    </tr>\n",
       "  </thead>\n",
       "  <tbody>\n",
       "    <tr>\n",
       "      <th>0</th>\n",
       "      <td>Perumahan Annieland Balaraja Cisoka Rumah Siap...</td>\n",
       "      <td>Independent Property Agent</td>\n",
       "      <td>Cisoka, Tangerang</td>\n",
       "      <td>-6.269770</td>\n",
       "      <td>106.433003</td>\n",
       "      <td>6.281839e+10</td>\n",
       "      <td>Rumah</td>\n",
       "      <td>60</td>\n",
       "      <td>36</td>\n",
       "      <td>1.680000e+08</td>\n",
       "      <td>1</td>\n",
       "      <td>2</td>\n",
       "      <td>1</td>\n",
       "    </tr>\n",
       "    <tr>\n",
       "      <th>1</th>\n",
       "      <td>Rumah Mewah 2 Lantai Termurah Di Jabodetabek</td>\n",
       "      <td>Independent Property Agent</td>\n",
       "      <td>Bukit Sentul, Bogor</td>\n",
       "      <td>-6.618206</td>\n",
       "      <td>106.879065</td>\n",
       "      <td>6.208950e+13</td>\n",
       "      <td>Rumah</td>\n",
       "      <td>80</td>\n",
       "      <td>90</td>\n",
       "      <td>7.850000e+08</td>\n",
       "      <td>2</td>\n",
       "      <td>3</td>\n",
       "      <td>2</td>\n",
       "    </tr>\n",
       "    <tr>\n",
       "      <th>2</th>\n",
       "      <td>Perumahan Muslim Segera Survey Banyak Kejutan ...</td>\n",
       "      <td>K-Pro</td>\n",
       "      <td>Kalisari, Jakarta Timur</td>\n",
       "      <td>-6.336080</td>\n",
       "      <td>106.852973</td>\n",
       "      <td>6.281116e+11</td>\n",
       "      <td>Rumah</td>\n",
       "      <td>91</td>\n",
       "      <td>105</td>\n",
       "      <td>1.470000e+09</td>\n",
       "      <td>4</td>\n",
       "      <td>4</td>\n",
       "      <td>1</td>\n",
       "    </tr>\n",
       "    <tr>\n",
       "      <th>3</th>\n",
       "      <td>Dijual rumah murah di Dago lokasi strategis da...</td>\n",
       "      <td>Onasis Property Bandung</td>\n",
       "      <td>Dago, Bandung</td>\n",
       "      <td>-6.904979</td>\n",
       "      <td>107.610479</td>\n",
       "      <td>8.129633e+10</td>\n",
       "      <td>Rumah</td>\n",
       "      <td>60</td>\n",
       "      <td>90</td>\n",
       "      <td>1.170000e+09</td>\n",
       "      <td>2</td>\n",
       "      <td>3</td>\n",
       "      <td>0</td>\n",
       "    </tr>\n",
       "    <tr>\n",
       "      <th>4</th>\n",
       "      <td>Rumah minimalis deket stasiun tambun</td>\n",
       "      <td>JPI Propertindo Ps. Minggu</td>\n",
       "      <td>Tambun Selatan, Bekasi</td>\n",
       "      <td>-6.272237</td>\n",
       "      <td>107.066368</td>\n",
       "      <td>6.283806e+12</td>\n",
       "      <td>Rumah</td>\n",
       "      <td>60</td>\n",
       "      <td>36</td>\n",
       "      <td>3.450000e+08</td>\n",
       "      <td>1</td>\n",
       "      <td>2</td>\n",
       "      <td>1</td>\n",
       "    </tr>\n",
       "  </tbody>\n",
       "</table>\n",
       "</div>"
      ],
      "text/plain": [
       "                                      property_title  \\\n",
       "0  Perumahan Annieland Balaraja Cisoka Rumah Siap...   \n",
       "1       Rumah Mewah 2 Lantai Termurah Di Jabodetabek   \n",
       "2  Perumahan Muslim Segera Survey Banyak Kejutan ...   \n",
       "3  Dijual rumah murah di Dago lokasi strategis da...   \n",
       "4               Rumah minimalis deket stasiun tambun   \n",
       "\n",
       "               property_agent                 location  latitude   longitude  \\\n",
       "0  Independent Property Agent        Cisoka, Tangerang -6.269770  106.433003   \n",
       "1  Independent Property Agent      Bukit Sentul, Bogor -6.618206  106.879065   \n",
       "2                       K-Pro  Kalisari, Jakarta Timur -6.336080  106.852973   \n",
       "3     Onasis Property Bandung            Dago, Bandung -6.904979  107.610479   \n",
       "4  JPI Propertindo Ps. Minggu   Tambun Selatan, Bekasi -6.272237  107.066368   \n",
       "\n",
       "   phone_number property_type  land_area  building_area     price_idr  \\\n",
       "0  6.281839e+10         Rumah         60             36  1.680000e+08   \n",
       "1  6.208950e+13         Rumah         80             90  7.850000e+08   \n",
       "2  6.281116e+11         Rumah         91            105  1.470000e+09   \n",
       "3  8.129633e+10         Rumah         60             90  1.170000e+09   \n",
       "4  6.283806e+12         Rumah         60             36  3.450000e+08   \n",
       "\n",
       "   num_bathroom  num_bedroom  garage_capacity  \n",
       "0             1            2                1  \n",
       "1             2            3                2  \n",
       "2             4            4                1  \n",
       "3             2            3                0  \n",
       "4             1            2                1  "
      ]
     },
     "execution_count": 3,
     "metadata": {},
     "output_type": "execute_result"
    }
   ],
   "source": [
    "data = pd.read_csv(\"data.csv\")\n",
    "data.head()"
   ]
  },
  {
   "cell_type": "markdown",
   "metadata": {},
   "source": [
    "Melihat jumlah data"
   ]
  },
  {
   "cell_type": "code",
   "execution_count": 4,
   "metadata": {},
   "outputs": [
    {
     "data": {
      "text/plain": [
       "property_title     1905\n",
       "property_agent     1905\n",
       "location           1905\n",
       "latitude           1905\n",
       "longitude          1905\n",
       "phone_number       1905\n",
       "property_type      1905\n",
       "land_area          1905\n",
       "building_area      1905\n",
       "price_idr          1904\n",
       "num_bathroom       1905\n",
       "num_bedroom        1905\n",
       "garage_capacity    1905\n",
       "dtype: int64"
      ]
     },
     "execution_count": 4,
     "metadata": {},
     "output_type": "execute_result"
    }
   ],
   "source": [
    "data.count()"
   ]
  },
  {
   "cell_type": "markdown",
   "metadata": {},
   "source": [
    "Melihat deskripsi data"
   ]
  },
  {
   "cell_type": "code",
   "execution_count": 5,
   "metadata": {},
   "outputs": [
    {
     "data": {
      "text/html": [
       "<div>\n",
       "<style scoped>\n",
       "    .dataframe tbody tr th:only-of-type {\n",
       "        vertical-align: middle;\n",
       "    }\n",
       "\n",
       "    .dataframe tbody tr th {\n",
       "        vertical-align: top;\n",
       "    }\n",
       "\n",
       "    .dataframe thead th {\n",
       "        text-align: right;\n",
       "    }\n",
       "</style>\n",
       "<table border=\"1\" class=\"dataframe\">\n",
       "  <thead>\n",
       "    <tr style=\"text-align: right;\">\n",
       "      <th></th>\n",
       "      <th>latitude</th>\n",
       "      <th>longitude</th>\n",
       "      <th>phone_number</th>\n",
       "      <th>land_area</th>\n",
       "      <th>building_area</th>\n",
       "      <th>price_idr</th>\n",
       "      <th>num_bathroom</th>\n",
       "      <th>num_bedroom</th>\n",
       "      <th>garage_capacity</th>\n",
       "    </tr>\n",
       "  </thead>\n",
       "  <tbody>\n",
       "    <tr>\n",
       "      <th>count</th>\n",
       "      <td>1905.000000</td>\n",
       "      <td>1905.000000</td>\n",
       "      <td>1.905000e+03</td>\n",
       "      <td>1905.000000</td>\n",
       "      <td>1905.000000</td>\n",
       "      <td>1.904000e+03</td>\n",
       "      <td>1905.000000</td>\n",
       "      <td>1905.000000</td>\n",
       "      <td>1905.000000</td>\n",
       "    </tr>\n",
       "    <tr>\n",
       "      <th>mean</th>\n",
       "      <td>-6.237583</td>\n",
       "      <td>108.395957</td>\n",
       "      <td>6.173921e+12</td>\n",
       "      <td>262.248294</td>\n",
       "      <td>245.041995</td>\n",
       "      <td>6.546773e+09</td>\n",
       "      <td>3.149606</td>\n",
       "      <td>3.827822</td>\n",
       "      <td>1.037795</td>\n",
       "    </tr>\n",
       "    <tr>\n",
       "      <th>std</th>\n",
       "      <td>2.015168</td>\n",
       "      <td>3.242746</td>\n",
       "      <td>2.536896e+13</td>\n",
       "      <td>532.971784</td>\n",
       "      <td>292.609059</td>\n",
       "      <td>1.722171e+10</td>\n",
       "      <td>3.559397</td>\n",
       "      <td>4.479501</td>\n",
       "      <td>1.749742</td>\n",
       "    </tr>\n",
       "    <tr>\n",
       "      <th>min</th>\n",
       "      <td>-8.803908</td>\n",
       "      <td>98.629259</td>\n",
       "      <td>6.281700e+04</td>\n",
       "      <td>1.000000</td>\n",
       "      <td>3.000000</td>\n",
       "      <td>3.500000e+06</td>\n",
       "      <td>1.000000</td>\n",
       "      <td>1.000000</td>\n",
       "      <td>0.000000</td>\n",
       "    </tr>\n",
       "    <tr>\n",
       "      <th>25%</th>\n",
       "      <td>-6.886021</td>\n",
       "      <td>106.783388</td>\n",
       "      <td>6.285689e+11</td>\n",
       "      <td>75.000000</td>\n",
       "      <td>70.000000</td>\n",
       "      <td>8.330000e+08</td>\n",
       "      <td>2.000000</td>\n",
       "      <td>3.000000</td>\n",
       "      <td>0.000000</td>\n",
       "    </tr>\n",
       "    <tr>\n",
       "      <th>50%</th>\n",
       "      <td>-6.302001</td>\n",
       "      <td>106.857134</td>\n",
       "      <td>6.281312e+12</td>\n",
       "      <td>128.000000</td>\n",
       "      <td>150.000000</td>\n",
       "      <td>2.200000e+09</td>\n",
       "      <td>3.000000</td>\n",
       "      <td>3.000000</td>\n",
       "      <td>1.000000</td>\n",
       "    </tr>\n",
       "    <tr>\n",
       "      <th>75%</th>\n",
       "      <td>-6.205258</td>\n",
       "      <td>107.611368</td>\n",
       "      <td>6.282124e+12</td>\n",
       "      <td>280.000000</td>\n",
       "      <td>300.000000</td>\n",
       "      <td>5.462500e+09</td>\n",
       "      <td>4.000000</td>\n",
       "      <td>4.000000</td>\n",
       "      <td>2.000000</td>\n",
       "    </tr>\n",
       "    <tr>\n",
       "      <th>max</th>\n",
       "      <td>42.645087</td>\n",
       "      <td>124.835888</td>\n",
       "      <td>6.262813e+14</td>\n",
       "      <td>8870.000000</td>\n",
       "      <td>3500.000000</td>\n",
       "      <td>3.500000e+11</td>\n",
       "      <td>62.000000</td>\n",
       "      <td>116.000000</td>\n",
       "      <td>41.000000</td>\n",
       "    </tr>\n",
       "  </tbody>\n",
       "</table>\n",
       "</div>"
      ],
      "text/plain": [
       "          latitude    longitude  phone_number    land_area  building_area  \\\n",
       "count  1905.000000  1905.000000  1.905000e+03  1905.000000    1905.000000   \n",
       "mean     -6.237583   108.395957  6.173921e+12   262.248294     245.041995   \n",
       "std       2.015168     3.242746  2.536896e+13   532.971784     292.609059   \n",
       "min      -8.803908    98.629259  6.281700e+04     1.000000       3.000000   \n",
       "25%      -6.886021   106.783388  6.285689e+11    75.000000      70.000000   \n",
       "50%      -6.302001   106.857134  6.281312e+12   128.000000     150.000000   \n",
       "75%      -6.205258   107.611368  6.282124e+12   280.000000     300.000000   \n",
       "max      42.645087   124.835888  6.262813e+14  8870.000000    3500.000000   \n",
       "\n",
       "          price_idr  num_bathroom  num_bedroom  garage_capacity  \n",
       "count  1.904000e+03   1905.000000  1905.000000      1905.000000  \n",
       "mean   6.546773e+09      3.149606     3.827822         1.037795  \n",
       "std    1.722171e+10      3.559397     4.479501         1.749742  \n",
       "min    3.500000e+06      1.000000     1.000000         0.000000  \n",
       "25%    8.330000e+08      2.000000     3.000000         0.000000  \n",
       "50%    2.200000e+09      3.000000     3.000000         1.000000  \n",
       "75%    5.462500e+09      4.000000     4.000000         2.000000  \n",
       "max    3.500000e+11     62.000000   116.000000        41.000000  "
      ]
     },
     "execution_count": 5,
     "metadata": {},
     "output_type": "execute_result"
    }
   ],
   "source": [
    "data.describe()"
   ]
  },
  {
   "cell_type": "markdown",
   "metadata": {},
   "source": [
    "### 2.2 Menelaah Data <a class=\"anchor\" id=\"2-2\"></a>"
   ]
  },
  {
   "cell_type": "markdown",
   "metadata": {},
   "source": [
    "Kita telah mendapatkan banyak informasi dari deskripsi data di atas. Contohnya seperti luas bangunan minimum sebesar 3 dan maksismum sebesar 3500. Kita dapat melihat bahwa data tersebut terdistribusi. Sekarang, kita akan melakukan visualisasi untuk beberapa atribut data untuk mendapatkan lebih banyak informasi."
   ]
  },
  {
   "cell_type": "markdown",
   "metadata": {},
   "source": [
    "**KARAKTERISTIK ATRIBUT**"
   ]
  },
  {
   "cell_type": "markdown",
   "metadata": {},
   "source": [
    "Pertama, kita akan melihat visualisasi lokasi properti dari atribut data latitude dan longitude"
   ]
  },
  {
   "cell_type": "code",
   "execution_count": 6,
   "metadata": {},
   "outputs": [
    {
     "data": {
      "text/plain": [
       "<Figure size 7200x7200 with 0 Axes>"
      ]
     },
     "metadata": {},
     "output_type": "display_data"
    },
    {
     "data": {
      "image/png": "[encoded data removed]",
      "text/plain": [
       "<Figure size 360x360 with 3 Axes>"
      ]
     },
     "metadata": {
      "needs_background": "light"
     },
     "output_type": "display_data"
    },
    {
     "data": {
      "text/plain": [
       "<function seaborn.utils.despine(fig=None, ax=None, top=True, right=True, left=False, bottom=False, offset=None, trim=False)>"
      ]
     },
     "execution_count": 6,
     "metadata": {},
     "output_type": "execute_result"
    }
   ],
   "source": [
    "plt.figure(figsize=(100,100))\n",
    "sns.jointplot(x=data.latitude.values, y=data.longitude.values, height=5)\n",
    "plt.xlabel('Latitude',fontsize=12)\n",
    "plt.ylabel('Longitude',fontsize=12)\n",
    "plt.show()\n",
    "sns.despine"
   ]
  },
  {
   "cell_type": "markdown",
   "metadata": {},
   "source": [
    "Kita dapat melihat kebanyakan rumah berada pada latitude -10 sampai 0 dan longitude 105 sampai 115"
   ]
  },
  {
   "cell_type": "markdown",
   "metadata": {},
   "source": [
    "Selanjutnya, kita akan melihat visualisasi persebaran harga dari properti"
   ]
  },
  {
   "cell_type": "code",
   "execution_count": 7,
   "metadata": {},
   "outputs": [
    {
     "data": {
      "image/png": "[encoded data removed]",
      "text/plain": [
       "<Figure size 432x288 with 1 Axes>"
      ]
     },
     "metadata": {
      "needs_background": "light"
     },
     "output_type": "display_data"
    }
   ],
   "source": [
    "dataLabel = ['0-800 juta', '800 juta - 1.4 miliar', '1.4-2 miliar', '2-3 miliar', '3-5 miliar', '5-10 miliar', '>10 miliar']\n",
    "dataCount = [0, 0, 0, 0, 0, 0, 0]\n",
    "\n",
    "for price in data['price_idr']:\n",
    "    if price < 800000000:\n",
    "        dataCount[0] += 1\n",
    "    elif price >= 800000000 and price < 1400000000:\n",
    "        dataCount[1] += 1\n",
    "    elif price >= 1400000000 and price < 2000000000:\n",
    "        dataCount[2] += 1\n",
    "    elif price >= 2000000000 and price < 3000000000:\n",
    "        dataCount[3] += 1\n",
    "    elif price >= 3000000000 and price < 5000000000:\n",
    "        dataCount[4] += 1\n",
    "    elif price >= 5000000000 and price < 10000000000:\n",
    "        dataCount[5] += 1\n",
    "    elif price >= 10000000000:\n",
    "        dataCount[6] += 1\n",
    "\n",
    "fig, ax = plt.subplots()\n",
    "y_pos = np.arange(len(dataLabel))\n",
    "hbars = ax.barh(y_pos, dataCount, align='center')\n",
    "ax.set_yticks(y_pos, labels=dataLabel)\n",
    "ax.invert_yaxis()\n",
    "ax.set_xlabel('Price IDR')\n",
    "ax.set_title('Harga Properti')\n",
    "\n",
    "ax.bar_label(hbars, fmt='%.2f')\n",
    "ax.set_xlim(right=500) \n",
    "\n",
    "plt.show()"
   ]
  },
  {
   "cell_type": "markdown",
   "metadata": {},
   "source": [
    "Kita dapat melihat bahwa kebanyakan harga properti berada di rentang 0-800 juta rupiah."
   ]
  },
  {
   "cell_type": "markdown",
   "metadata": {},
   "source": [
    "Selanjutnya, kita akan melihat persebaran jumlah ruangan (kamar, kamar mandi, dan garasi) yang ada"
   ]
  },
  {
   "cell_type": "code",
   "execution_count": 8,
   "metadata": {},
   "outputs": [
    {
     "data": {
      "text/plain": [
       "<AxesSubplot:title={'center':'Persebaran Jumlah Kamar'}>"
      ]
     },
     "execution_count": 8,
     "metadata": {},
     "output_type": "execute_result"
    },
    {
     "data": {
      "image/png": "[encoded data removed]",
      "text/plain": [
       "<Figure size 432x288 with 1 Axes>"
      ]
     },
     "metadata": {
      "needs_background": "light"
     },
     "output_type": "display_data"
    }
   ],
   "source": [
    "data['num_bedroom'].value_counts(dropna=True).sort_index().plot(kind=\"bar\",x='num_bedroom',y='counts',title=\"Persebaran Jumlah Kamar\")"
   ]
  },
  {
   "cell_type": "markdown",
   "metadata": {},
   "source": [
    "Kita dapat melihat bahwa kebanyakan properti yang dijual memiliki 3 atau 4 kamar"
   ]
  },
  {
   "cell_type": "code",
   "execution_count": 9,
   "metadata": {},
   "outputs": [
    {
     "data": {
      "text/plain": [
       "<AxesSubplot:title={'center':'Persebaran Jumlah Kamar Mandi'}>"
      ]
     },
     "execution_count": 9,
     "metadata": {},
     "output_type": "execute_result"
    },
    {
     "data": {
      "image/png": "[encoded data removed]",
      "text/plain": [
       "<Figure size 432x288 with 1 Axes>"
      ]
     },
     "metadata": {
      "needs_background": "light"
     },
     "output_type": "display_data"
    }
   ],
   "source": [
    "data['num_bathroom'].value_counts(dropna=True).sort_index().plot(kind=\"bar\",x='num_bathroom',y='counts',title=\"Persebaran Jumlah Kamar Mandi\")"
   ]
  },
  {
   "cell_type": "markdown",
   "metadata": {},
   "source": [
    "Kita dapat melihat bahwa kebanyakan properti yang dijual memiliki 2 sampai 3 kamar mandi"
   ]
  },
  {
   "cell_type": "code",
   "execution_count": 10,
   "metadata": {},
   "outputs": [
    {
     "data": {
      "text/plain": [
       "<AxesSubplot:title={'center':'Persebaran Jumlah Garasi'}>"
      ]
     },
     "execution_count": 10,
     "metadata": {},
     "output_type": "execute_result"
    },
    {
     "data": {
      "image/png": "[encoded data removed]",
      "text/plain": [
       "<Figure size 432x288 with 1 Axes>"
      ]
     },
     "metadata": {
      "needs_background": "light"
     },
     "output_type": "display_data"
    }
   ],
   "source": [
    "data['garage_capacity'].value_counts(dropna=True).sort_index().plot(kind=\"bar\",x='garage_capacity',y='counts',title=\"Persebaran Jumlah Garasi\")"
   ]
  },
  {
   "cell_type": "markdown",
   "metadata": {},
   "source": [
    "Kita dapat melihat bahwa kebanyakan properti yang dijual tidak memiliki garasi atau hanya berkapasitas 1"
   ]
  },
  {
   "cell_type": "markdown",
   "metadata": {},
   "source": [
    "Selanjutnya, kita akan melihat persebaran luas tanah dan luas bangunan dari properti"
   ]
  },
  {
   "cell_type": "code",
   "execution_count": 11,
   "metadata": {},
   "outputs": [
    {
     "data": {
      "image/png": "[encoded data removed]",
      "text/plain": [
       "<Figure size 432x288 with 1 Axes>"
      ]
     },
     "metadata": {
      "needs_background": "light"
     },
     "output_type": "display_data"
    }
   ],
   "source": [
    "fig, ax = plt.subplots()\n",
    "ax.plot(data['land_area'].value_counts().sort_index())\n",
    "ax.set_title(\"Persebaran Luas Tanah\")\n",
    "plt.xticks(np.arange(min(data['land_area']), max(data['land_area']), 500),rotation=45)\n",
    "plt.show()"
   ]
  },
  {
   "cell_type": "code",
   "execution_count": 12,
   "metadata": {},
   "outputs": [
    {
     "data": {
      "image/png": "[encoded data removed]",
      "text/plain": [
       "<Figure size 432x288 with 1 Axes>"
      ]
     },
     "metadata": {
      "needs_background": "light"
     },
     "output_type": "display_data"
    }
   ],
   "source": [
    "fig, ax = plt.subplots()\n",
    "ax.plot(data['building_area'].value_counts().sort_index())\n",
    "ax.set_title(\"Persebaran Luas Bangunan\")\n",
    "plt.xticks(np.arange(min(data['building_area']), max(data['building_area']), 100),rotation=90)\n",
    "plt.show()"
   ]
  },
  {
   "cell_type": "markdown",
   "metadata": {},
   "source": [
    "Kita dapat melihat bahwa kebanyakan properti memiliki luas tanah 1-501 dan luas bangunan 3-403"
   ]
  },
  {
   "cell_type": "markdown",
   "metadata": {},
   "source": [
    "Selanjutnya, kita akan melihat hubungan-hubungan atribut tadi dengan harga properti"
   ]
  },
  {
   "cell_type": "markdown",
   "metadata": {},
   "source": [
    "**KETERKAITAN ANTAR DATA**"
   ]
  },
  {
   "cell_type": "code",
   "execution_count": 13,
   "metadata": {},
   "outputs": [
    {
     "data": {
      "image/png": "[encoded data removed]",
      "text/plain": [
       "<Figure size 432x288 with 1 Axes>"
      ]
     },
     "metadata": {
      "needs_background": "light"
     },
     "output_type": "display_data"
    },
    {
     "data": {
      "text/plain": [
       "<function seaborn.utils.despine(fig=None, ax=None, top=True, right=True, left=False, bottom=False, offset=None, trim=False)>"
      ]
     },
     "execution_count": 13,
     "metadata": {},
     "output_type": "execute_result"
    }
   ],
   "source": [
    "plt.scatter(data.building_area, data.price_idr)\n",
    "plt.title(\"Luas Bangunan vs Harga\")\n",
    "plt.xlabel(\"Luas Bangunan\")\n",
    "plt.ylabel(\"Harga\")\n",
    "plt.show()\n",
    "sns.despine\n"
   ]
  },
  {
   "cell_type": "code",
   "execution_count": 14,
   "metadata": {},
   "outputs": [
    {
     "data": {
      "image/png": "[encoded data removed]",
      "text/plain": [
       "<Figure size 432x288 with 1 Axes>"
      ]
     },
     "metadata": {
      "needs_background": "light"
     },
     "output_type": "display_data"
    },
    {
     "data": {
      "text/plain": [
       "<function seaborn.utils.despine(fig=None, ax=None, top=True, right=True, left=False, bottom=False, offset=None, trim=False)>"
      ]
     },
     "execution_count": 14,
     "metadata": {},
     "output_type": "execute_result"
    }
   ],
   "source": [
    "plt.scatter(data.land_area, data.price_idr)\n",
    "plt.title(\"Luas Tanah vs Harga\")\n",
    "plt.xlabel(\"Luas Tanah\")\n",
    "plt.ylabel(\"Harga\")\n",
    "plt.show()\n",
    "sns.despine"
   ]
  },
  {
   "cell_type": "code",
   "execution_count": 15,
   "metadata": {},
   "outputs": [
    {
     "data": {
      "image/png": "[encoded data removed]",
      "text/plain": [
       "<Figure size 432x288 with 1 Axes>"
      ]
     },
     "metadata": {
      "needs_background": "light"
     },
     "output_type": "display_data"
    },
    {
     "data": {
      "text/plain": [
       "<function seaborn.utils.despine(fig=None, ax=None, top=True, right=True, left=False, bottom=False, offset=None, trim=False)>"
      ]
     },
     "execution_count": 15,
     "metadata": {},
     "output_type": "execute_result"
    }
   ],
   "source": [
    "plt.scatter(data.latitude, data.price_idr)\n",
    "plt.title(\"Lokasi Latitude vs Harga\")\n",
    "plt.xlabel(\"Latitude Tanah\")\n",
    "plt.ylabel(\"Harga\")\n",
    "plt.show()\n",
    "sns.despine"
   ]
  },
  {
   "cell_type": "code",
   "execution_count": 16,
   "metadata": {},
   "outputs": [
    {
     "data": {
      "image/png": "[encoded data removed]",
      "text/plain": [
       "<Figure size 432x288 with 1 Axes>"
      ]
     },
     "metadata": {
      "needs_background": "light"
     },
     "output_type": "display_data"
    },
    {
     "data": {
      "text/plain": [
       "<function seaborn.utils.despine(fig=None, ax=None, top=True, right=True, left=False, bottom=False, offset=None, trim=False)>"
      ]
     },
     "execution_count": 16,
     "metadata": {},
     "output_type": "execute_result"
    }
   ],
   "source": [
    "plt.scatter(data.longitude, data.price_idr)\n",
    "plt.title(\"Lokasi Longitude vs Harga\")\n",
    "plt.xlabel(\"Longitude\")\n",
    "plt.ylabel(\"Harga\")\n",
    "plt.show()\n",
    "sns.despine"
   ]
  },
  {
   "cell_type": "code",
   "execution_count": 17,
   "metadata": {},
   "outputs": [
    {
     "data": {
      "image/png": "[encoded data removed]",
      "text/plain": [
       "<Figure size 432x288 with 1 Axes>"
      ]
     },
     "metadata": {
      "needs_background": "light"
     },
     "output_type": "display_data"
    },
    {
     "data": {
      "text/plain": [
       "<function seaborn.utils.despine(fig=None, ax=None, top=True, right=True, left=False, bottom=False, offset=None, trim=False)>"
      ]
     },
     "execution_count": 17,
     "metadata": {},
     "output_type": "execute_result"
    }
   ],
   "source": [
    "plt.scatter(data.num_bedroom, data.price_idr)\n",
    "plt.title(\"Jumlah Kamar vs Harga\")\n",
    "plt.xlabel(\"Jumlah Kamar\")\n",
    "plt.ylabel(\"Harga\")\n",
    "plt.show()\n",
    "sns.despine"
   ]
  },
  {
   "cell_type": "code",
   "execution_count": 18,
   "metadata": {},
   "outputs": [
    {
     "data": {
      "image/png": "[encoded data removed]",
      "text/plain": [
       "<Figure size 432x288 with 1 Axes>"
      ]
     },
     "metadata": {
      "needs_background": "light"
     },
     "output_type": "display_data"
    },
    {
     "data": {
      "text/plain": [
       "<function seaborn.utils.despine(fig=None, ax=None, top=True, right=True, left=False, bottom=False, offset=None, trim=False)>"
      ]
     },
     "execution_count": 18,
     "metadata": {},
     "output_type": "execute_result"
    }
   ],
   "source": [
    "plt.scatter(data.num_bathroom, data.price_idr)\n",
    "plt.title(\"Jumlah Kamar Mandi vs Harga\")\n",
    "plt.xlabel(\"Jumlah Kamar Mandi\")\n",
    "plt.ylabel(\"Harga\")\n",
    "plt.show()\n",
    "sns.despine"
   ]
  },
  {
   "cell_type": "code",
   "execution_count": 19,
   "metadata": {},
   "outputs": [
    {
     "data": {
      "image/png": "[encoded data removed]",
      "text/plain": [
       "<Figure size 432x288 with 1 Axes>"
      ]
     },
     "metadata": {
      "needs_background": "light"
     },
     "output_type": "display_data"
    },
    {
     "data": {
      "text/plain": [
       "<function seaborn.utils.despine(fig=None, ax=None, top=True, right=True, left=False, bottom=False, offset=None, trim=False)>"
      ]
     },
     "execution_count": 19,
     "metadata": {},
     "output_type": "execute_result"
    }
   ],
   "source": [
    "plt.scatter(data.garage_capacity, data.price_idr)\n",
    "plt.title(\"Kapasitas Garasi vs Harga\")\n",
    "plt.xlabel(\"Kapasitas Garasi\")\n",
    "plt.ylabel(\"Harga\")\n",
    "plt.show()\n",
    "sns.despine"
   ]
  },
  {
   "cell_type": "markdown",
   "metadata": {},
   "source": [
    "### 2.3 Memvalidasi Data <a class=\"anchor\" id=\"2-3\"></a>"
   ]
  },
  {
   "cell_type": "markdown",
   "metadata": {},
   "source": [
    "Kualitas data sudah sesuai untuk memprediksi harga properti berdasarkan lokasi, luas area properti, dan jumlah ruangan pada properti"
   ]
  },
  {
   "cell_type": "markdown",
   "metadata": {},
   "source": [
    "## 3. Data Preparation <a class=\"anchor\" id=\"3\"></a>"
   ]
  },
  {
   "cell_type": "markdown",
   "metadata": {},
   "source": [
    "### 3.1 Memilih dan Memilah data <a class=\"anchor\" id=\"3-1\"></a>\n",
    "Atribut yang terpakai adalah price_idr, latitude, longitude, building_area, land_area, num_bedroom, num_bathroom, dan garage_capacity"
   ]
  },
  {
   "cell_type": "code",
   "execution_count": 20,
   "metadata": {},
   "outputs": [
    {
     "data": {
      "text/html": [
       "<div>\n",
       "<style scoped>\n",
       "    .dataframe tbody tr th:only-of-type {\n",
       "        vertical-align: middle;\n",
       "    }\n",
       "\n",
       "    .dataframe tbody tr th {\n",
       "        vertical-align: top;\n",
       "    }\n",
       "\n",
       "    .dataframe thead th {\n",
       "        text-align: right;\n",
       "    }\n",
       "</style>\n",
       "<table border=\"1\" class=\"dataframe\">\n",
       "  <thead>\n",
       "    <tr style=\"text-align: right;\">\n",
       "      <th></th>\n",
       "      <th>price_idr</th>\n",
       "      <th>latitude</th>\n",
       "      <th>longitude</th>\n",
       "      <th>building_area</th>\n",
       "      <th>land_area</th>\n",
       "      <th>num_bedroom</th>\n",
       "      <th>num_bathroom</th>\n",
       "      <th>garage_capacity</th>\n",
       "    </tr>\n",
       "  </thead>\n",
       "  <tbody>\n",
       "    <tr>\n",
       "      <th>count</th>\n",
       "      <td>1.904000e+03</td>\n",
       "      <td>1905.000000</td>\n",
       "      <td>1905.000000</td>\n",
       "      <td>1905.000000</td>\n",
       "      <td>1905.000000</td>\n",
       "      <td>1905.000000</td>\n",
       "      <td>1905.000000</td>\n",
       "      <td>1905.000000</td>\n",
       "    </tr>\n",
       "    <tr>\n",
       "      <th>mean</th>\n",
       "      <td>6.546773e+09</td>\n",
       "      <td>-6.237583</td>\n",
       "      <td>108.395957</td>\n",
       "      <td>245.041995</td>\n",
       "      <td>262.248294</td>\n",
       "      <td>3.827822</td>\n",
       "      <td>3.149606</td>\n",
       "      <td>1.037795</td>\n",
       "    </tr>\n",
       "    <tr>\n",
       "      <th>std</th>\n",
       "      <td>1.722171e+10</td>\n",
       "      <td>2.015168</td>\n",
       "      <td>3.242746</td>\n",
       "      <td>292.609059</td>\n",
       "      <td>532.971784</td>\n",
       "      <td>4.479501</td>\n",
       "      <td>3.559397</td>\n",
       "      <td>1.749742</td>\n",
       "    </tr>\n",
       "    <tr>\n",
       "      <th>min</th>\n",
       "      <td>3.500000e+06</td>\n",
       "      <td>-8.803908</td>\n",
       "      <td>98.629259</td>\n",
       "      <td>3.000000</td>\n",
       "      <td>1.000000</td>\n",
       "      <td>1.000000</td>\n",
       "      <td>1.000000</td>\n",
       "      <td>0.000000</td>\n",
       "    </tr>\n",
       "    <tr>\n",
       "      <th>25%</th>\n",
       "      <td>8.330000e+08</td>\n",
       "      <td>-6.886021</td>\n",
       "      <td>106.783388</td>\n",
       "      <td>70.000000</td>\n",
       "      <td>75.000000</td>\n",
       "      <td>3.000000</td>\n",
       "      <td>2.000000</td>\n",
       "      <td>0.000000</td>\n",
       "    </tr>\n",
       "    <tr>\n",
       "      <th>50%</th>\n",
       "      <td>2.200000e+09</td>\n",
       "      <td>-6.302001</td>\n",
       "      <td>106.857134</td>\n",
       "      <td>150.000000</td>\n",
       "      <td>128.000000</td>\n",
       "      <td>3.000000</td>\n",
       "      <td>3.000000</td>\n",
       "      <td>1.000000</td>\n",
       "    </tr>\n",
       "    <tr>\n",
       "      <th>75%</th>\n",
       "      <td>5.462500e+09</td>\n",
       "      <td>-6.205258</td>\n",
       "      <td>107.611368</td>\n",
       "      <td>300.000000</td>\n",
       "      <td>280.000000</td>\n",
       "      <td>4.000000</td>\n",
       "      <td>4.000000</td>\n",
       "      <td>2.000000</td>\n",
       "    </tr>\n",
       "    <tr>\n",
       "      <th>max</th>\n",
       "      <td>3.500000e+11</td>\n",
       "      <td>42.645087</td>\n",
       "      <td>124.835888</td>\n",
       "      <td>3500.000000</td>\n",
       "      <td>8870.000000</td>\n",
       "      <td>116.000000</td>\n",
       "      <td>62.000000</td>\n",
       "      <td>41.000000</td>\n",
       "    </tr>\n",
       "  </tbody>\n",
       "</table>\n",
       "</div>"
      ],
      "text/plain": [
       "          price_idr     latitude    longitude  building_area    land_area  \\\n",
       "count  1.904000e+03  1905.000000  1905.000000    1905.000000  1905.000000   \n",
       "mean   6.546773e+09    -6.237583   108.395957     245.041995   262.248294   \n",
       "std    1.722171e+10     2.015168     3.242746     292.609059   532.971784   \n",
       "min    3.500000e+06    -8.803908    98.629259       3.000000     1.000000   \n",
       "25%    8.330000e+08    -6.886021   106.783388      70.000000    75.000000   \n",
       "50%    2.200000e+09    -6.302001   106.857134     150.000000   128.000000   \n",
       "75%    5.462500e+09    -6.205258   107.611368     300.000000   280.000000   \n",
       "max    3.500000e+11    42.645087   124.835888    3500.000000  8870.000000   \n",
       "\n",
       "       num_bedroom  num_bathroom  garage_capacity  \n",
       "count  1905.000000   1905.000000      1905.000000  \n",
       "mean      3.827822      3.149606         1.037795  \n",
       "std       4.479501      3.559397         1.749742  \n",
       "min       1.000000      1.000000         0.000000  \n",
       "25%       3.000000      2.000000         0.000000  \n",
       "50%       3.000000      3.000000         1.000000  \n",
       "75%       4.000000      4.000000         2.000000  \n",
       "max     116.000000     62.000000        41.000000  "
      ]
     },
     "execution_count": 20,
     "metadata": {},
     "output_type": "execute_result"
    }
   ],
   "source": [
    "df = data[['price_idr', 'latitude', 'longitude', 'building_area', 'land_area', 'num_bedroom', 'num_bathroom', 'garage_capacity']]\n",
    "df.describe()"
   ]
  },
  {
   "cell_type": "markdown",
   "metadata": {},
   "source": [
    "### 3.2 Membersihkan Data <a class=\"anchor\" id=\"3-2\"></a>"
   ]
  },
  {
   "cell_type": "markdown",
   "metadata": {},
   "source": [
    "Memperbaiki kualitas data dengan menghilangkan rekord dengan atribut null"
   ]
  },
  {
   "cell_type": "code",
   "execution_count": 21,
   "metadata": {},
   "outputs": [
    {
     "data": {
      "text/html": [
       "<div>\n",
       "<style scoped>\n",
       "    .dataframe tbody tr th:only-of-type {\n",
       "        vertical-align: middle;\n",
       "    }\n",
       "\n",
       "    .dataframe tbody tr th {\n",
       "        vertical-align: top;\n",
       "    }\n",
       "\n",
       "    .dataframe thead th {\n",
       "        text-align: right;\n",
       "    }\n",
       "</style>\n",
       "<table border=\"1\" class=\"dataframe\">\n",
       "  <thead>\n",
       "    <tr style=\"text-align: right;\">\n",
       "      <th></th>\n",
       "      <th>price_idr</th>\n",
       "      <th>latitude</th>\n",
       "      <th>longitude</th>\n",
       "      <th>building_area</th>\n",
       "      <th>land_area</th>\n",
       "      <th>num_bedroom</th>\n",
       "      <th>num_bathroom</th>\n",
       "      <th>garage_capacity</th>\n",
       "    </tr>\n",
       "  </thead>\n",
       "  <tbody>\n",
       "    <tr>\n",
       "      <th>count</th>\n",
       "      <td>1.904000e+03</td>\n",
       "      <td>1904.000000</td>\n",
       "      <td>1904.000000</td>\n",
       "      <td>1904.000000</td>\n",
       "      <td>1904.000000</td>\n",
       "      <td>1904.000000</td>\n",
       "      <td>1904.000000</td>\n",
       "      <td>1904.00000</td>\n",
       "    </tr>\n",
       "    <tr>\n",
       "      <th>mean</th>\n",
       "      <td>6.546773e+09</td>\n",
       "      <td>-6.237230</td>\n",
       "      <td>108.396386</td>\n",
       "      <td>244.986870</td>\n",
       "      <td>262.296744</td>\n",
       "      <td>3.826681</td>\n",
       "      <td>3.149160</td>\n",
       "      <td>1.03834</td>\n",
       "    </tr>\n",
       "    <tr>\n",
       "      <th>std</th>\n",
       "      <td>1.722171e+10</td>\n",
       "      <td>2.015639</td>\n",
       "      <td>3.243544</td>\n",
       "      <td>292.676035</td>\n",
       "      <td>533.107604</td>\n",
       "      <td>4.480401</td>\n",
       "      <td>3.560279</td>\n",
       "      <td>1.75004</td>\n",
       "    </tr>\n",
       "    <tr>\n",
       "      <th>min</th>\n",
       "      <td>3.500000e+06</td>\n",
       "      <td>-8.803908</td>\n",
       "      <td>98.629259</td>\n",
       "      <td>3.000000</td>\n",
       "      <td>1.000000</td>\n",
       "      <td>1.000000</td>\n",
       "      <td>1.000000</td>\n",
       "      <td>0.00000</td>\n",
       "    </tr>\n",
       "    <tr>\n",
       "      <th>25%</th>\n",
       "      <td>8.330000e+08</td>\n",
       "      <td>-6.886021</td>\n",
       "      <td>106.783388</td>\n",
       "      <td>70.000000</td>\n",
       "      <td>75.000000</td>\n",
       "      <td>3.000000</td>\n",
       "      <td>2.000000</td>\n",
       "      <td>0.00000</td>\n",
       "    </tr>\n",
       "    <tr>\n",
       "      <th>50%</th>\n",
       "      <td>2.200000e+09</td>\n",
       "      <td>-6.302001</td>\n",
       "      <td>106.857134</td>\n",
       "      <td>150.000000</td>\n",
       "      <td>128.000000</td>\n",
       "      <td>3.000000</td>\n",
       "      <td>3.000000</td>\n",
       "      <td>1.00000</td>\n",
       "    </tr>\n",
       "    <tr>\n",
       "      <th>75%</th>\n",
       "      <td>5.462500e+09</td>\n",
       "      <td>-6.204873</td>\n",
       "      <td>107.611368</td>\n",
       "      <td>300.000000</td>\n",
       "      <td>280.500000</td>\n",
       "      <td>4.000000</td>\n",
       "      <td>4.000000</td>\n",
       "      <td>2.00000</td>\n",
       "    </tr>\n",
       "    <tr>\n",
       "      <th>max</th>\n",
       "      <td>3.500000e+11</td>\n",
       "      <td>42.645087</td>\n",
       "      <td>124.835888</td>\n",
       "      <td>3500.000000</td>\n",
       "      <td>8870.000000</td>\n",
       "      <td>116.000000</td>\n",
       "      <td>62.000000</td>\n",
       "      <td>41.00000</td>\n",
       "    </tr>\n",
       "  </tbody>\n",
       "</table>\n",
       "</div>"
      ],
      "text/plain": [
       "          price_idr     latitude    longitude  building_area    land_area  \\\n",
       "count  1.904000e+03  1904.000000  1904.000000    1904.000000  1904.000000   \n",
       "mean   6.546773e+09    -6.237230   108.396386     244.986870   262.296744   \n",
       "std    1.722171e+10     2.015639     3.243544     292.676035   533.107604   \n",
       "min    3.500000e+06    -8.803908    98.629259       3.000000     1.000000   \n",
       "25%    8.330000e+08    -6.886021   106.783388      70.000000    75.000000   \n",
       "50%    2.200000e+09    -6.302001   106.857134     150.000000   128.000000   \n",
       "75%    5.462500e+09    -6.204873   107.611368     300.000000   280.500000   \n",
       "max    3.500000e+11    42.645087   124.835888    3500.000000  8870.000000   \n",
       "\n",
       "       num_bedroom  num_bathroom  garage_capacity  \n",
       "count  1904.000000   1904.000000       1904.00000  \n",
       "mean      3.826681      3.149160          1.03834  \n",
       "std       4.480401      3.560279          1.75004  \n",
       "min       1.000000      1.000000          0.00000  \n",
       "25%       3.000000      2.000000          0.00000  \n",
       "50%       3.000000      3.000000          1.00000  \n",
       "75%       4.000000      4.000000          2.00000  \n",
       "max     116.000000     62.000000         41.00000  "
      ]
     },
     "execution_count": 21,
     "metadata": {},
     "output_type": "execute_result"
    }
   ],
   "source": [
    "df = df.dropna()\n",
    "df.describe()"
   ]
  },
  {
   "cell_type": "markdown",
   "metadata": {},
   "source": [
    "### 3.3 Mengkonstruksi Data <a class=\"anchor\" id=\"3-3\"></a>"
   ]
  },
  {
   "cell_type": "markdown",
   "metadata": {},
   "source": [
    "Tidak ada fitur / atribut tambahan yang digunakan, transformasi standarisasi dilakukan pada tahapan modeling setelah pemisahan data"
   ]
  },
  {
   "cell_type": "markdown",
   "metadata": {},
   "source": [
    "### 3.4 Integrasi Data <a class=\"anchor\" id=\"3-4\"></a>"
   ]
  },
  {
   "cell_type": "markdown",
   "metadata": {},
   "source": [
    "Hanya ada satu dataset yang digunakan sehingga tahapan ini tidak diperlukan."
   ]
  },
  {
   "cell_type": "markdown",
   "metadata": {},
   "source": [
    "## 4. Modeling <a class=\"anchor\" id=\"4\"></a>"
   ]
  },
  {
   "cell_type": "markdown",
   "metadata": {},
   "source": [
    "### 4.1 Membangun Skenario Pemodelan <a class=\"anchor\" id=\"4-1\"></a>"
   ]
  },
  {
   "cell_type": "markdown",
   "metadata": {},
   "source": [
    "**Algoritma**  \n",
    "Algoritma yang akan digunakan untuk membangun model antara lain linear regression, support vector regression, decision tree, dan gradient boosting regression. Nantinya kita akan menggunakan data yang paling akurat untuk deployment."
   ]
  },
  {
   "cell_type": "markdown",
   "metadata": {},
   "source": [
    "**Pembagian Data**  \n",
    "Pemisahan data latih/uji melibatkan pemisahan dataset menjadi dataset pelatihan dan pengujian, yang saling eksklusif. Setelah itu, dataset pelatihan dapat digunakan untuk membuat model dan dataset pengujian untuk pengujian.\n",
    "Hal ini akan memberikan evaluasi yang lebih akurat pada akurasi out-of-sample karena dataset pengujian bukan merupakan bagian dari dataset yang telah digunakan untuk melatih data. Ini lebih realistis untuk masalah dunia nyata.\n",
    "\n",
    "Ini berarti bahwa hasil dari setiap titik data dalam kumpulan data ini diketahui, sehingga sangat bagus untuk data pengujian. Dataset pengujian belum digunakan untuk melatih model, sehingga model tidak memiliki pengetahuan tentang hasil dari data ini, sehingga dapat disebut pengujian di luar sampel."
   ]
  },
  {
   "cell_type": "markdown",
   "metadata": {},
   "source": [
    "Pertama, kita akan memisahkan atribut harga sebagai variable dependen"
   ]
  },
  {
   "cell_type": "code",
   "execution_count": 22,
   "metadata": {},
   "outputs": [],
   "source": [
    "y = df['price_idr'].values\n",
    "x = df.drop(['price_idr'],axis=1)"
   ]
  },
  {
   "cell_type": "markdown",
   "metadata": {},
   "source": [
    "Setelah itu kita akan standarisasi dengan scaler"
   ]
  },
  {
   "cell_type": "code",
   "execution_count": 23,
   "metadata": {},
   "outputs": [],
   "source": [
    "from sklearn.preprocessing import StandardScaler\n",
    "sc_y = StandardScaler()\n",
    "sc_x = StandardScaler()\n",
    "y = y.reshape(-1,1) # reshape karena 1 dimensi\n",
    "y = sc_y.fit_transform(y)\n",
    "x = sc_x.fit_transform(x)"
   ]
  },
  {
   "cell_type": "markdown",
   "metadata": {},
   "source": [
    "Selanjutnya, kita akan memisahkan train data dengan test data, dimana 90% data akan digunakan untuk training"
   ]
  },
  {
   "cell_type": "code",
   "execution_count": 24,
   "metadata": {},
   "outputs": [],
   "source": [
    "from sklearn.model_selection import train_test_split\n",
    "x_train , x_test , y_train , y_test = train_test_split(x , y , test_size = 0.10, random_state=0)"
   ]
  },
  {
   "cell_type": "markdown",
   "metadata": {},
   "source": [
    "### 4.2 Membangun Model <a class=\"anchor\" id=\"4-2\"></a>"
   ]
  },
  {
   "cell_type": "markdown",
   "metadata": {},
   "source": [
    "Pertama, buat parameter untuk testing"
   ]
  },
  {
   "cell_type": "code",
   "execution_count": 25,
   "metadata": {},
   "outputs": [],
   "source": [
    "original_params = {'n_estimators': 400, 'max_depth': 5,'min_samples_split': 2,'random_state': 2,'learning_rate': 0.1, 'loss':'ls'}\n",
    "params = dict(original_params)"
   ]
  },
  {
   "cell_type": "markdown",
   "metadata": {},
   "source": [
    "**LINEAR REGRESSION**  \n",
    "\n",
    "Proses pelatihan algoritma pertama, yaitu dengan menggunakan linear regression"
   ]
  },
  {
   "cell_type": "code",
   "execution_count": 26,
   "metadata": {},
   "outputs": [
    {
     "data": {
      "text/plain": [
       "LinearRegression()"
      ]
     },
     "execution_count": 26,
     "metadata": {},
     "output_type": "execute_result"
    }
   ],
   "source": [
    "from sklearn.linear_model import LinearRegression\n",
    "lreg = LinearRegression()\n",
    "lreg.fit(x_train,y_train)"
   ]
  },
  {
   "cell_type": "markdown",
   "metadata": {},
   "source": [
    "Melihat nilai koefisien untuk persamaan regresi"
   ]
  },
  {
   "cell_type": "code",
   "execution_count": 27,
   "metadata": {},
   "outputs": [
    {
     "data": {
      "text/plain": [
       "array([[ 0.02602493, -0.08688853,  0.59671302,  0.42708298, -0.03641957,\n",
       "        -0.12500827, -0.12185457]])"
      ]
     },
     "execution_count": 27,
     "metadata": {},
     "output_type": "execute_result"
    }
   ],
   "source": [
    "lreg.coef_"
   ]
  },
  {
   "cell_type": "code",
   "execution_count": 28,
   "metadata": {},
   "outputs": [
    {
     "data": {
      "text/plain": [
       "array([0.00573628])"
      ]
     },
     "execution_count": 28,
     "metadata": {},
     "output_type": "execute_result"
    }
   ],
   "source": [
    "lreg.intercept_"
   ]
  },
  {
   "cell_type": "markdown",
   "metadata": {},
   "source": [
    "Proses pengujian linear regression"
   ]
  },
  {
   "cell_type": "code",
   "execution_count": 41,
   "metadata": {},
   "outputs": [
    {
     "name": "stdout",
     "output_type": "stream",
     "text": [
      "MAE =  0.2588473318282016\n",
      "MSE =  0.3635598336640251\n",
      "R2 =  0.40744927047697543\n",
      "Score =  0.40744927047697543\n"
     ]
    }
   ],
   "source": [
    "from sklearn.metrics import mean_squared_error, mean_absolute_error, r2_score\n",
    "print(\"MAE = \",mean_absolute_error(y_test, lreg.predict(x_test)))\n",
    "print(\"MSE = \",mean_squared_error(y_test, lreg.predict(x_test)))\n",
    "print(\"R2 = \",r2_score(y_test, lreg.predict(x_test)))\n",
    "print(\"Score = \", lreg.score(x_test,y_test))"
   ]
  },
  {
   "cell_type": "markdown",
   "metadata": {},
   "source": [
    "**SUPPORT VECTOR REGRESSION**  \n",
    "\n",
    "Proses pelatihan support vector regression"
   ]
  },
  {
   "cell_type": "code",
   "execution_count": 30,
   "metadata": {},
   "outputs": [
    {
     "data": {
      "text/plain": [
       "SVR(kernel='linear')"
      ]
     },
     "execution_count": 30,
     "metadata": {},
     "output_type": "execute_result"
    }
   ],
   "source": [
    "from sklearn.svm import SVR\n",
    "svrreg = SVR(kernel = 'linear')\n",
    "y_rav = np.ravel(y_train)\n",
    "svrreg.fit(x_train, y_rav)"
   ]
  },
  {
   "cell_type": "markdown",
   "metadata": {},
   "source": [
    "Melihat nilai koefisien untuk persamaan regresi"
   ]
  },
  {
   "cell_type": "code",
   "execution_count": 31,
   "metadata": {},
   "outputs": [
    {
     "data": {
      "text/plain": [
       "array([[ 0.01087479, -0.02789231,  0.37494404,  0.21957364, -0.03189557,\n",
       "        -0.00820694,  0.00520801]])"
      ]
     },
     "execution_count": 31,
     "metadata": {},
     "output_type": "execute_result"
    }
   ],
   "source": [
    "svrreg.coef_"
   ]
  },
  {
   "cell_type": "code",
   "execution_count": 32,
   "metadata": {},
   "outputs": [
    {
     "data": {
      "text/plain": [
       "array([-0.08783619])"
      ]
     },
     "execution_count": 32,
     "metadata": {},
     "output_type": "execute_result"
    }
   ],
   "source": [
    "svrreg.intercept_"
   ]
  },
  {
   "cell_type": "markdown",
   "metadata": {},
   "source": [
    "Proses pengujian support vector regression"
   ]
  },
  {
   "cell_type": "code",
   "execution_count": 42,
   "metadata": {},
   "outputs": [
    {
     "name": "stdout",
     "output_type": "stream",
     "text": [
      "MAE =  0.18464983479045788\n",
      "MSE =  0.17684013149561015\n",
      "R2 =  0.711775781525119\n",
      "Score =  0.711775781525119\n"
     ]
    }
   ],
   "source": [
    "print(\"MAE = \",mean_absolute_error(y_test, svrreg.predict(x_test)))\n",
    "print(\"MSE = \",mean_squared_error(y_test, svrreg.predict(x_test)))\n",
    "print(\"R2 = \",r2_score(y_test, svrreg.predict(x_test)))\n",
    "print(\"Score = \", svrreg.score(x_test,y_test))"
   ]
  },
  {
   "cell_type": "markdown",
   "metadata": {},
   "source": [
    "**DECISION TREE**\n",
    "\n",
    "Proses pelatihan decision tree regressor"
   ]
  },
  {
   "cell_type": "code",
   "execution_count": 34,
   "metadata": {},
   "outputs": [
    {
     "data": {
      "text/plain": [
       "DecisionTreeRegressor()"
      ]
     },
     "execution_count": 34,
     "metadata": {},
     "output_type": "execute_result"
    }
   ],
   "source": [
    "from sklearn.tree import DecisionTreeRegressor\n",
    "dtreg = DecisionTreeRegressor()\n",
    "dtreg.fit(x_train,y_train)"
   ]
  },
  {
   "cell_type": "markdown",
   "metadata": {},
   "source": [
    "Proses pengujian decision tree regressor"
   ]
  },
  {
   "cell_type": "code",
   "execution_count": 45,
   "metadata": {},
   "outputs": [
    {
     "name": "stdout",
     "output_type": "stream",
     "text": [
      "MAE =  0.1491113585865306\n",
      "MSE =  0.17146733851840018\n",
      "R2 =  0.720532668572119\n",
      "Score =  0.720532668572119\n"
     ]
    }
   ],
   "source": [
    "print(\"MAE = \",mean_absolute_error(y_test, dtreg.predict(x_test)))\n",
    "print(\"MSE = \",mean_squared_error(y_test, dtreg.predict(x_test)))\n",
    "print(\"R2 = \",r2_score(y_test, dtreg.predict(x_test)))\n",
    "print(\"Score = \", dtreg.score(x_test,y_test))"
   ]
  },
  {
   "cell_type": "markdown",
   "metadata": {},
   "source": [
    "**GRADIENT BOOSTING REGRESSION**  \n",
    "\n",
    "Proses pelatihan gradient boosting regression"
   ]
  },
  {
   "cell_type": "code",
   "execution_count": 36,
   "metadata": {},
   "outputs": [
    {
     "data": {
      "text/plain": [
       "GradientBoostingRegressor(max_depth=5, n_estimators=400)"
      ]
     },
     "execution_count": 36,
     "metadata": {},
     "output_type": "execute_result"
    }
   ],
   "source": [
    "from sklearn.ensemble import GradientBoostingRegressor\n",
    "greg = GradientBoostingRegressor(n_estimators = 400, max_depth = 5, min_samples_split = 2, learning_rate = 0.1, loss = 'squared_error')\n",
    "greg.fit(x_train,y_rav)"
   ]
  },
  {
   "cell_type": "markdown",
   "metadata": {},
   "source": [
    "Proses pengujian gradient boosting regression"
   ]
  },
  {
   "cell_type": "code",
   "execution_count": 46,
   "metadata": {},
   "outputs": [
    {
     "name": "stdout",
     "output_type": "stream",
     "text": [
      "MAE =  0.0909689567233722\n",
      "MSE =  0.04622648014559483\n",
      "R2 =  0.9246574236281915\n",
      "Score =  0.9246574236281915\n"
     ]
    }
   ],
   "source": [
    "print(\"MAE = \",mean_absolute_error(y_test, greg.predict(x_test)))\n",
    "print(\"MSE = \",mean_squared_error(y_test, greg.predict(x_test)))\n",
    "print(\"R2 = \",r2_score(y_test, greg.predict(x_test)))\n",
    "print(\"Score = \", greg.score(x_test,y_test))"
   ]
  },
  {
   "cell_type": "markdown",
   "metadata": {},
   "source": [
    "## 5. Model Evaluation <a class=\"anchor\" id=\"5\"></a>"
   ]
  },
  {
   "cell_type": "markdown",
   "metadata": {},
   "source": [
    "### 5.1 Mengevaluasi Model <a class=\"anchor\" id=\"5-1\"></a>"
   ]
  },
  {
   "cell_type": "markdown",
   "metadata": {},
   "source": [
    "Kita dapat melihat bahwa gradient boosting regression memiliki skor terbaik, dengan nilai MAE = 0.09, MSE = 0.046, R2 = 0.92, dan score accuracy 0.92 sehingga kita akan memilih algoritma tersebut untuk dilakukan deployment."
   ]
  },
  {
   "cell_type": "markdown",
   "metadata": {},
   "source": [
    "### 5.2 Mengevaluasi Proses <a class=\"anchor\" id=\"5-2\"></a>"
   ]
  },
  {
   "cell_type": "markdown",
   "metadata": {},
   "source": [
    "Proses data science mengikuti SKKNI langkah generik data science, sehingga dapat kita nilai sudah cukup maksimal."
   ]
  },
  {
   "cell_type": "markdown",
   "metadata": {},
   "source": [
    "## 6. Deployment <a class=\"anchor\" id=\"6\"></a>"
   ]
  },
  {
   "cell_type": "markdown",
   "metadata": {},
   "source": [
    "Deployment dilakukan dengan membuat model regresi menjadi character stream menggunakan pickle. Idenya adalah character stream tersebut nantinya akan berisi semua informasi yang diperlukan untuk merekonstruksi objek pada script API python yang akan di-deploy."
   ]
  },
  {
   "cell_type": "code",
   "execution_count": 38,
   "metadata": {},
   "outputs": [],
   "source": [
    "import pickle\n",
    "pickle.dump(greg, open('model.pkl','wb'))"
   ]
  },
  {
   "cell_type": "markdown",
   "metadata": {},
   "source": [
    "Selanjutnya kita menguji apakah model berhasil diubah menjadi character stream."
   ]
  },
  {
   "cell_type": "code",
   "execution_count": 47,
   "metadata": {},
   "outputs": [
    {
     "name": "stdout",
     "output_type": "stream",
     "text": [
      "0.9246574236281915\n"
     ]
    }
   ],
   "source": [
    "model = pickle.load(open('model.pkl','rb'))\n",
    "print(model.score(x_test, y_test))"
   ]
  },
  {
   "cell_type": "markdown",
   "metadata": {},
   "source": [
    "Setelah itu, kita akan membuat Flask App sebagai framework aplikasi prediksi harga properti ini."
   ]
  },
  {
   "cell_type": "markdown",
   "metadata": {},
   "source": [
    "## 7.  Project Evaluation <a class=\"anchor\" id=\"7\"></a>"
   ]
  }
 ],
 "metadata": {
  "interpreter": {
   "hash": "afd9b8a082ff309121c661ef1d450e9293ae4c9fcff9c17f7d786e789126b826"
  },
  "kernelspec": {
   "display_name": "Python 3.9.7 64-bit",
   "language": "python",
   "name": "python3"
  },
  "language_info": {
   "codemirror_mode": {
    "name": "ipython",
    "version": 3
   },
   "file_extension": ".py",
   "mimetype": "text/x-python",
   "name": "python",
   "nbconvert_exporter": "python",
   "pygments_lexer": "ipython3",
   "version": "3.9.7"
  },
  "orig_nbformat": 4
 },
 "nbformat": 4,
 "nbformat_minor": 2
}
